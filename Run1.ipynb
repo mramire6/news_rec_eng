{
 "cells": [
  {
   "cell_type": "markdown",
   "metadata": {},
   "source": [
    "1. Start to collect data from the article. ~ 100 articles as a small starting point?\n",
    "2. Set up a database to store the articles (instead of just a python data structure in memory)\n",
    "3. Draw up a workflow for the app and sketch out functions, how things connect, plans for each and start up git for it. (you need to get used to the git functionality stuff.)\n",
    "4. Start to commit to it and write some tests for the functions to include in your test driven development. For now, just put everything in one script. \n",
    "5. In parallel start to do some OOP once you get the classes set. "
   ]
  },
  {
   "cell_type": "code",
   "execution_count": 1,
   "metadata": {},
   "outputs": [],
   "source": [
    "import requests\n",
    "from bs4 import BeautifulSoup"
   ]
  },
  {
   "cell_type": "code",
   "execution_count": null,
   "metadata": {},
   "outputs": [],
   "source": [
    "URL = 'https://www.axios.com/facebook-employees-stage-virtual-walkout-7f28483e-d59c-4d5d-b4b7-891113b56233.html'\n"
   ]
  },
  {
   "cell_type": "code",
   "execution_count": 2,
   "metadata": {},
   "outputs": [],
   "source": [
    "def get_webpage(URL: str):\n",
    "    return requests.get(URL)"
   ]
  },
  {
   "cell_type": "code",
   "execution_count": 3,
   "metadata": {},
   "outputs": [],
   "source": [
    "def soupify_webpage(page, parser_type = 'html.parser'):\n",
    "    return BeautifulSoup(page.content, parser_type)"
   ]
  },
  {
   "cell_type": "code",
   "execution_count": 4,
   "metadata": {},
   "outputs": [],
   "source": [
    "def isolate_main_article(soup):\n",
    "    return soup.find('article')"
   ]
  },
  {
   "cell_type": "code",
   "execution_count": 5,
   "metadata": {},
   "outputs": [],
   "source": [
    "def isolate_main_text(main_article, class_type = None):\n",
    "    if class_type is None:\n",
    "        class_type = 'b0w77w-0 jctzOA gtm-story-text p mt-12 mb-20 sm:mt-20'\n",
    "    else:\n",
    "        class_type = class_type\n",
    "    article = soup.find('div', class_=class_type).text\n",
    "    return article"
   ]
  },
  {
   "cell_type": "code",
   "execution_count": 6,
   "metadata": {},
   "outputs": [],
   "source": [
    "def isolate_main_headline(soup):\n",
    "    return soup.title.text"
   ]
  },
  {
   "cell_type": "code",
   "execution_count": 7,
   "metadata": {},
   "outputs": [],
   "source": [
    "def isolate_main_authors(main_article):\n",
    "    authors_html = main_article.find('div', class_='truncate').find_all('a')\n",
    "    authors = [authors_html[ind].text for ind in range(len(authors_html))]\n",
    "    return authors"
   ]
  },
  {
   "cell_type": "code",
   "execution_count": 8,
   "metadata": {},
   "outputs": [],
   "source": [
    "def isolate_main_tags(main_article):\n",
    "    return main_article.find('div').a['href']"
   ]
  },
  {
   "cell_type": "code",
   "execution_count": null,
   "metadata": {},
   "outputs": [],
   "source": [
    "page = get_webpage(URL)\n",
    "soup = soupify_webpage(page)"
   ]
  },
  {
   "cell_type": "code",
   "execution_count": null,
   "metadata": {},
   "outputs": [],
   "source": [
    "main_article = isolate_main_article(soup)\n",
    "main_tags = isolate_main_tags(main_article)\n",
    "main_headline = isolate_main_headline(soup)\n",
    "main_authors = isolate_main_authors(main_article)\n",
    "main_text = isolate_main_text(main_article)"
   ]
  },
  {
   "cell_type": "code",
   "execution_count": null,
   "metadata": {},
   "outputs": [],
   "source": [
    "#print(soup.prettify())"
   ]
  },
  {
   "cell_type": "markdown",
   "metadata": {},
   "source": [
    "### Find Headline of Article"
   ]
  },
  {
   "cell_type": "code",
   "execution_count": null,
   "metadata": {},
   "outputs": [],
   "source": [
    "headline = article.h1.text\n",
    "headline"
   ]
  },
  {
   "cell_type": "markdown",
   "metadata": {},
   "source": [
    "### Find Text of Article"
   ]
  },
  {
   "cell_type": "code",
   "execution_count": null,
   "metadata": {},
   "outputs": [],
   "source": [
    "article_text = article.find('div', class_='b0w77w-0 jctzOA gtm-story-text p mt-12 mb-20 sm:mt-20').text\n",
    "article_text"
   ]
  },
  {
   "cell_type": "markdown",
   "metadata": {},
   "source": [
    "### Find Section Tags of Article"
   ]
  },
  {
   "cell_type": "code",
   "execution_count": null,
   "metadata": {},
   "outputs": [],
   "source": [
    "section = article.find('div').a['href'][1:]\n",
    "section"
   ]
  },
  {
   "cell_type": "code",
   "execution_count": null,
   "metadata": {},
   "outputs": [],
   "source": [
    "soup.find('div')"
   ]
  },
  {
   "cell_type": "markdown",
   "metadata": {},
   "source": [
    "### Find Author of Article"
   ]
  },
  {
   "cell_type": "code",
   "execution_count": null,
   "metadata": {},
   "outputs": [],
   "source": [
    "a_list = article.find('div', class_='truncate').find_all('a')\n",
    "author = []\n",
    "\n",
    "for ind in range(len(a_list)):\n",
    "    author.append(a_list[ind].text)\n",
    "    \n",
    "author"
   ]
  },
  {
   "cell_type": "code",
   "execution_count": null,
   "metadata": {},
   "outputs": [],
   "source": [
    "article.find_all('a')"
   ]
  },
  {
   "cell_type": "markdown",
   "metadata": {},
   "source": [
    "### Does the class string match in other articles as well?"
   ]
  },
  {
   "cell_type": "code",
   "execution_count": null,
   "metadata": {},
   "outputs": [],
   "source": [
    "URL2 = 'https://www.axios.com/trump-putin-g7-phone-call-7820750a-9bc3-4696-898e-f85bb012005b.html'\n",
    "page2 = requests.get(URL2)\n"
   ]
  },
  {
   "cell_type": "code",
   "execution_count": null,
   "metadata": {},
   "outputs": [],
   "source": [
    "soup2 = BeautifulSoup(page2.content, 'html.parser')"
   ]
  },
  {
   "cell_type": "code",
   "execution_count": null,
   "metadata": {},
   "outputs": [],
   "source": [
    "article2 = soup2.find('article')\n",
    "print(article2.prettify())"
   ]
  },
  {
   "cell_type": "code",
   "execution_count": null,
   "metadata": {},
   "outputs": [],
   "source": [
    "headline2 = article2.h1.text\n",
    "headline2"
   ]
  },
  {
   "cell_type": "code",
   "execution_count": null,
   "metadata": {},
   "outputs": [],
   "source": [
    "article2.find('div', class_='b0w77w-0 jctzOA gtm-story-text p mt-12 mb-20 sm:mt-20').text"
   ]
  },
  {
   "cell_type": "markdown",
   "metadata": {},
   "source": [
    "## Extract links to URLs for latest stories"
   ]
  },
  {
   "cell_type": "code",
   "execution_count": null,
   "metadata": {},
   "outputs": [],
   "source": [
    "main_url = 'https://www.axios.com/'\n",
    "main_page = get_webpage(main_url)\n",
    "main_soup = soupify_webpage(main_page)"
   ]
  },
  {
   "cell_type": "code",
   "execution_count": null,
   "metadata": {},
   "outputs": [],
   "source": [
    "latest_stories = main_soup.find('div',id='maincontent').find('section').find_all('a', class_='title-link hover:text-accent-blue-shade')\n",
    "url_latest_stories = [latest_stories[ind]['href'] for ind in range(len(latest_stories))]\n",
    "url_latest_stories"
   ]
  },
  {
   "cell_type": "code",
   "execution_count": 9,
   "metadata": {},
   "outputs": [],
   "source": [
    "def get_latest_urls(soup):\n",
    "    latest_stories = soup.find('div',id='maincontent').find('section').find_all('a', class_='title-link')\n",
    "    return [latest_stories[ind]['href'] for ind in range(len(latest_stories))]\n"
   ]
  },
  {
   "cell_type": "code",
   "execution_count": null,
   "metadata": {},
   "outputs": [],
   "source": [
    "get_latest_urls(main_soup)"
   ]
  },
  {
   "cell_type": "code",
   "execution_count": null,
   "metadata": {},
   "outputs": [],
   "source": [
    "soup.find('span', class_='time-rubric')"
   ]
  },
  {
   "cell_type": "code",
   "execution_count": null,
   "metadata": {},
   "outputs": [],
   "source": [
    "soup.find('span', class_='time-rubric')[]"
   ]
  },
  {
   "cell_type": "markdown",
   "metadata": {},
   "source": [
    "### You can use dates to find older stories\n",
    "https://www.axios.com/technology/2020/05/30\n",
    "format\n"
   ]
  },
  {
   "cell_type": "markdown",
   "metadata": {},
   "source": [
    "### Sections in Axios"
   ]
  },
  {
   "cell_type": "code",
   "execution_count": 10,
   "metadata": {},
   "outputs": [],
   "source": [
    "URL = 'https://www.axios.com/'\n",
    "page = get_webpage(URL)\n",
    "soup = soupify_webpage(page)"
   ]
  },
  {
   "cell_type": "code",
   "execution_count": 11,
   "metadata": {},
   "outputs": [],
   "source": [
    "sections = ['politics-policy',\n",
    "            'technology',\n",
    "            'economy-business',\n",
    "            'health',\n",
    "            'world',\n",
    "            'energy-environment',\n",
    "            'science',\n",
    "            'sports']"
   ]
  },
  {
   "cell_type": "markdown",
   "metadata": {},
   "source": [
    "### Date"
   ]
  },
  {
   "cell_type": "code",
   "execution_count": 12,
   "metadata": {},
   "outputs": [
    {
     "data": {
      "text/plain": [
       "'2020/6/2'"
      ]
     },
     "execution_count": 12,
     "metadata": {},
     "output_type": "execute_result"
    }
   ],
   "source": [
    "from datetime import date\n",
    "\n",
    "def get_date():\n",
    "    return str(date.today().year) + '/' + str(date.today().month) + '/' + str(date.today().day)\n",
    "\n",
    "get_date()"
   ]
  },
  {
   "cell_type": "markdown",
   "metadata": {},
   "source": [
    "### Start up SQLite Database"
   ]
  },
  {
   "cell_type": "code",
   "execution_count": null,
   "metadata": {},
   "outputs": [],
   "source": []
  },
  {
   "cell_type": "code",
   "execution_count": 13,
   "metadata": {},
   "outputs": [
    {
     "name": "stdout",
     "output_type": "stream",
     "text": [
      "Headline: George Floyd death: Minneapolis Public Schools to end police contract - Axios\n",
      "Main Authors: ['Rebecca Falconer']\n",
      "Main Text: Minneapolis Public Schools voted unanimously on Tuesday evening to end its contract with the city's police department following the death in custody of George Floyd, per the Star Tribune.Details: It was decided to terminate the $1.1 million contract because the actions of police after Floyd's death had \"run directly counter to the values\" of the school district, BuzzFeed notes. Editor's note: This is a developing news story. Please check back for updates.\n",
      "\n",
      "Headline: Former Joint Chiefs chairman \"sickened\" by Trump's St. John's photo op - Axios\n",
      "Main Authors: ['Orion Rummler']\n",
      "Main Text: Retired Adm. Mike Mullen, chairman of the Joint Chiefs of Staff from 2007 to 2011, wrote in an op-ed in The Atlantic Tuesday that he was \"sickened\" to see the National Guard use physical force on peaceful protestors to clear a path for President Trump's photo op at D.C.'s historic St. John’s Episcopal Church on Monday.Why it matters: Mullen's op-ed is a rare condemnation of the president by a four-star admiral and the former highest-ranking officer in the U.S. Army. It comes amid widespread criticism Democrats and a handful of Republicans over Trump's decision to take the photo.What he's saying: \"I have to date been reticent to speak out on issues surrounding President Trump's leadership, but we are at an inflection point, and the events of the past few weeks have made it impossible to remain silent,\" Mullen wrote. \"Whatever Trump's goal in conducting his visit, he laid bare his disdain for the rights of peaceful protest in this country, gave succor to the leaders of other countries who take comfort in our domestic strife, and risked further politicizing the men and women of our armed forces,\" he said. \"There was little good in the stunt.\"\"I remain confident in the professionalism of our men and women in uniform. They will serve with skill and with compassion. They will obey lawful orders. But I am less confident in the soundness of the orders they will be given by this commander in chief, and I am not convinced that the conditions on our streets, as bad as they are, have risen to the level that justifies a heavy reliance on military troops.\"Go deeper: GOP senators scold Trump over St. John's photo op\n",
      "\n",
      "Headline: Elizabeth Warren joins George Floyd protestors outside White House - Axios\n",
      "Main Authors: ['Ursula Perano']\n",
      "Main Text: Sen. Elizabeth Warren (D-Mass.) joined protestors outside the White House on Tuesday calling for justice for George Floyd, according to reporters on the scene.The big picture: Protests near the White House drew large crowds on Tuesday, even with a 7pm curfew in place and a military presence on the ground in the nation's capital.Warren told Washington Post reporter Teddy Amenabar: \"I’m here today because nothing changes if we don’t speak out. It is not enough to stay comfortable in our homes and offices and say we stand in solidarity. It’s important that we get out on the front lines and call out racism everywhere.\"The senator was joined by her husband, Bruce, and dog Bailey. \n",
      "\n",
      "Headline: Trump backs off push to federalize forces against riots - Axios\n",
      "Main Authors: ['Alayna Treene']\n",
      "Main Text: A day after threatening to federalize forces to snuff out riots across the country, the president appears to be backing off the idea of invoking the Insurrection Act, sources familiar with his plans tell Axios.What we're hearing: Aides say he hasn’t ruled out its use at some point, but that he's “pleased” with the way protests were handled last night (apart from in New York City, as he indicated on Twitter today) — and that for now he's satisfied with leaving the crackdown to states through local law enforcement and the National Guard. \"The law is absolutely still on the table if things get really bad, but as of now he doesn't think it's going to have to go that far,” an administration official tells Axios. A second official said Trump saw and continues to see the act as a mechanism only if governors can't contain chaos in their states.White House spokesman Judd Deere tells Axios: \"As President Trump has said, we cannot allow the voices of peaceful protestors to be drowned out by angry mobs, which is why the President will continue to take lawful, decisive action to stop the violence and restore the security of all Americans.\"This resetting of expectations follows words of caution on Tuesday from some key Senate Republicans allies of the president, who said all other options should be exhausted.Invoking the Insurrection Act \"should be our last resort,\" Sen. Lindsey Graham (R-S.C.) told reporters on Tuesday. \"I don’t think the Pentagon’s keen on getting brought into this unless they absolutely have to. We need to restore order, but using active duty military troops in circumstances like this is a fairly rare occurrence.\" \"I would prefer that these things be handled by the state and local authorities,\" Sen. John Thune (R-S.D.) said. \"You want to de-escalate, rather than escalate.\"Between the lines: On a call with governors yesterday afternoon, an \"infuriated\" Trump berated the state leaders as “weak” and urged them to \"dominate\" looters and rioters, or risk \"looking like a bunch of jerks,\" per a source on the call. Trump's takeaway in the hours that followed was that his threats got through and that governors and local leaders across the country stepped up to restore order, the sources said. One source said that sentiment was reflected in a Tuesday morning tweet by the president: \"D.C. had no problems last night. Many arrests. Great job done by all. Overwhelming force. Domination. Likewise, Minneapolis was great (thank you President Trump!).\" Worth noting: Sources cautioned Trump could still change his mind depending on how future protests unfold — and that, if he did, he would move quickly. \"The next few nights will be critical,\" one administration official told Axios.\n",
      "\n",
      "Headline: Coronavirus dashboard: Catch up fast - Axios\n",
      "Main Authors: ['Axios']\n",
      "Main Text: Global: Total confirmed cases as of 6:30 p.m. ET: 6,339,005 — Total deaths: 378,266 — Total recoveries — 2,712,720 — Map.U.S.: Total confirmed cases as of 6:30 p.m. ET: 1,828,736 — Total deaths: 106,046 — Total recoveries: 463,868 — Total tested: 17,757,838 — Map.2020: N.C. governor says GOP should plan for a \"scaled-down convention.\"Public health: Protests against police brutality threaten coronavirus response — Controlling the virus in nursing homes won't be easy.Business: More than 1 in 6 black workers lost jobs between February and April.Tech: Zoom revenues and profit soar as pandemic propels videoconferencing.What should I do? Axios asked the experts:When you can be around others after contracting the coronavirusTraveling, asthma, dishes, disinfectants and being contagiousMasks, lending books and self-isolatingExercise, laundry, what counts as soapPets, moving and personal healthAnswers about the virus from Axios expertsWhat to know about social distancingHow to minimize your riskOther resources: CDC on how to avoid the virusWhat to do if you get itThe right mask to wearSubscribe to Mike Allen's Axios AM to follow our coronavirus coverage each morning from your inbox.\n",
      "\n",
      "Headline: World coronavirus updates: Treatment for cancer and diabetes disrupted - Axios\n",
      "Main Authors: ['Axios']\n",
      "Main Text: Treatment for diabetes, cancer, cardiovascular emergencies and hypertension have been partially or totally disrupted by the pandemic across many countries, the World Health Organization reports.By the numbers: Over 6.3 million people have tested positive for COVID-19 worldwide and over 2.7 million have recovered from the virus. Over 378,000 people have died globally. The U.S. has reported the most cases in the world with over 1.8 million.The U.K. eased more lockdown restrictions Monday despite warnings from some health officials, AP reports. The U.K. confirmed over 39,000 deaths from the virus — the most fatalities outside the U.S. With over 520,000 infections, Brazil has the most cases outside of the U.S.What's happening: The pandemic underscores why market regulators, companies and investors should do a better job planning for climate risks to the financial system.Spain reported no new deaths in a 24-hour period from COVID-19 for the first time since March, an encouraging sign for a major hot spot in Europe, per the AP.Hydroxchloroquine: The U.S. is sending 2 million doses of the anti-malarial drug and 1,000 ventilators to Brazil.President Trump delayed the G7 conference from June to September amid concerns over international travel. Germany Chancellor Angela Merkel had originally declined Trump's invitation to the June summit over COVID-19.India extended its nationwide lockdown again on Saturday, as the nation's deaths and infections continue to climb.Greece is hoping its coronavirus success story will survive the tourism season.Over 500 schools in South Korea — which has been a model for how to handle the coronavirus — have either closed or postponed reopening, according to the Korea Times, which cites data from the Ministry of Education.Russian President Vladimir Putin said the country's annual military parade would take place on June 24, despite rising coronavirus cases.Italy plans to reopen all airports beginning June 3 as restrictions on public transportation are eased, Transport Minister Paola De Micheli said during last week's parliamentary session. New cases in the country have largely plateaued in recent weeks, per Johns Hopkins.Thailand restaurants have started reopening, the New York Times reports, with gyms and salons cleared to resume on June 1.New Zealand has a single coronavirus case after reporting a week of no new infections, the Ministry of Health confirmed Friday.The big picture: Policy responses to the crisis have been every-country-for-itself and — in the case of the U.S. and China — tinged with geopolitical rivalry. But the scientific work underway to understand the virus and develop a vaccine has been globalized on an unprecedented scale.Coronavirus symptoms include: Fever, cough, shortness of breath, repeated shaking with chills, muscle pain, headaches, sore throat and a loss of taste or smell.Editors note: The graphic includes \"probable deaths\" that New York City began reporting on April 14. This article has been updated with new details throughout. Check back for the latest. Go deeper... The coronavirus: What you can do \n",
      "\n"
     ]
    },
    {
     "name": "stdout",
     "output_type": "stream",
     "text": [
      "Headline: Updates: George Floyd protests nationwide - Axios\n",
      "Main Authors: ['Rebecca Falconer']\n",
      "Main Text: Protests over the death of George Floyd and other police-related killings of black people continued Tuesday across the U.S. for the eighth consecutive day, prompting a federal response from the National Guard, Immigration and Customs Enforcement and Customs and Border Protection.The latest: The National Park Service said in a statement Tuesday that while it \"is committed to the peaceful expression of First Amendment rights,\" it \"cannot tolerate violence to citizens or officers or damage to our nation’s resources that we are entrusted to protect.\"Canadian Prime Minister Justin Trudeau was silent for roughly 20 seconds when asked to react to Monday's scenes from outside the White House, where officers forcefully removed peaceful protesters to make way for a Trump photo op in front of St. John's Church.Former President George W. Bush wrote in a statement Tuesday that he and his wife are \"anguished\" by the death of Floyd, and said \"it is time for America to examine our tragic failures.\"The big picture: 54% of Americans say they support demonstrations condemning the death of Floyd, according to a Morning Consult survey of nearly 2,000 U.S. adults.What's happening: Senate Majority Leader Mitch McConnell (R-Ky.) blocked a resolution introduced by Minority Leader Chuck Schumer (D-N.Y.) on Tuesday that would have condemned the use of tear gas and rubber bullets against peaceful protesters outside the White House.The Minnesota Department of Human Rights announced an investigation on Tuesday into the conduct of the Minneapolis Police Department over the past decade, after filing a civil rights charge related to the death of George Floyd.A man who was arrested after authorities claimed he sped toward protesters in Minneapolis with a tanker truck Sunday was released from jail without charges on Tuesday pending further investigation.Six Atlanta police officers were charged after video footage emerged showing they pulled two students from a car during Saturday night protests.The National Guard members has been activated in at least 23 states and Washington, D.C., with curfews in place in at least 40 cities after days of unrest, per CNN. The U.S. Secret Service closed the streets immediately on all four sides of the White House Tuesday, until \"riots [became] peaceful, or stop.\"Republican lawmakers are weighing in on Trump's decision to tear gas and physically clear peaceful protestors from outside the White House on Monday in order to stand in front of the historic St. John's Episcopal Church for a photo op.Overnight: Protesters Monday night successfully waited out a D.C. police siege after a 7 p.m. curfew was implemented. Military helicopters in the nation's capital used a wind-blowing tactic to disperse protest crowds. Police officers were targeted in several cities during tense standoffs, with one officer shot in Las Vegas and four police hit by gunfire in St Louis.Looting was reported in several cities, with New York City being one of the worst affected areas. Manhattan, in particular, saw looting at Macy's flagship store in Herald Square and luxury stores along Fifth Avenue as the 11 p.m. curfew began, per the New York Times. Looting was also reported at malls in Richmond and Fairfield in California.New York City Mayor Bill de Blasio tweeted that he'd just left the Bronx and the police commissioner was sending additional assistance to \"problem\" areas. Protesters were \"overwhelmingly peaceful,\" de Blasio said. But some people who had \"nothing to do with the cause\" stole and damaged property, he added.Seattle police declared a riot late Monday, tweeting: \"Crowd has thrown rocks, bottles and fireworks at officers and is attempting to breach barricades one block from the East Precinct.\"In Minneapolis, demonstrations remained peaceful but police arrested dozens of protesters who broke the curfew by staying out after 10 p.m., CBS Minnesota reports.Baltimore police said some people had set off illegal fireworks, \"throwing objects near peaceful protestors and officers\" during demonstrations.Clergy of St. John’s Episcopal Church criticized Trump after authorities used tear gas to disperse protesters so he could visit the church near the White House, with a rector getting caught in the crosshairs.Virginia's Arlington County Police Department said in a statement it withdrew officers from D.C. Monday night after its officers assisted in the protest dispersal.Louisville Mayor Greg Fischer fired the city's chief of police Steve Conrad after police officers didn't activate body cameras during the shooting of David McAtee, a local black business owner who was killed during protests early Monday.Top Democrats slammed the president's quasi-offer to deploy military. Of note: Preliminary results from an independent autopsy commissioned by Floyd's family and an updated official autopsy released by the Hennepin County medical examiner both found his death was the result of homicide while in police custody.The independent autopsy found it was \"caused by asphyxia due to neck and back compression that led to a lack of blood flow to the brain.\" The official report said it was due to \"cardiopulmonary arrest complicating law enforcement subdued, restraint, and neck compression.\" Editor's note: This article has been updated with new details throughout.Go deeper: In photos: George Floyd protests continue to grip the nation The Biden-Trump split screenThe world watches America burn \n",
      "\n",
      "Headline: National Park Service defends clearing of protesters outside White House - Axios\n",
      "Main Authors: ['Ursula Perano']\n",
      "Main Text: The National Park Service said in a statement Tuesday that while it \"is committed to the peaceful expression of First Amendment rights,\" it \"cannot tolerate violence to citizens or officers or damage to our nation’s resources that we are entrusted to protect.\"Why it matters: The statement comes one day after NPS officers and U.S. Secret Service were accused of using physical force and tear gas to disperse peaceful protestors outside the White House so that President Trump could visit St. John's Episcopal Church for a photo op. NPS claimed that officers did not use tear gas, but \"employed the use of smoke canisters and pepper balls\" in response to \"violent protesters\" throwing \"projectiles including bricks, frozen water bottles and caustic liquids.\"Yes, but: A number of reporters and even clergy members present on the scene claimed that protesters were peaceful aside from a few tense moments.What they're saying: NPS stated that they originally \"issued three warnings over a loudspeaker to alert demonstrators on H Street to evacuate the area,\" and that \"horse mounted patrol, Civil Disturbance Units and additional personnel were used to clear the area.\"NPS notes that U.S. park police have made no arrests. 51 members of the USPP have been injured amid protests, with 11 transported to the hospital and released and three admitted.\n",
      "\n",
      "Headline: U.S. coronavirus updates: Experts doubt the virus will slow for the summer - Axios\n",
      "Main Authors: ['Axios']\n",
      "Main Text: Infectious disease experts doubt that the coronavirus will slow its spread during the summer, National Institutes of Health director Francis Collins wrote in a Tuesday blog post. By the numbers: More than 105,000 Americans have died of the coronavirus and over 1.8 million people have tested positive, per data from Johns Hopkins. More than 458,000 Americans have recovered and over 17.3 million tests have been conducted. The big picture: Black Americans are facing competing crises as they protest police brutality and racial inequality while still bearing the disproportionate impact of the coronavirus pandemic.The fury over George Floyd's killing is erupting as the U.S. faces a looming wave of business bankruptcies and likely home evictions driven by a pandemic that has killed black Americans at a higher rate than any other race.What's happening: Protests against police brutality have prompted the closure of coronavirus test sites across the country, including in Pennsylvania, Florida, California and Illinois, Politico reports.The College Board said it will \"pause\" on offering at-home SAT tests this year, since it cannot guarantee that all students have access to \"three hours of uninterrupted, video-quality internet.\" North Carolina Gov. Roy Cooper said Republicans should plan for a \"scaled-down convention with fewer people, social distancing and face coverings\" given the impact of the pandemic.Protests: Health experts fear the protests breaking out across the U.S. could contribute to the spread of the coronavirus. It's recommended that those who are demonstrating be tested for the virus.Michigan Gov. Gretchen Whitmer has lifted the state's stay-at-home order and allowed bars and restaurants statewide to reopen at reduced capacity by June 8.Anthony Fauci told Stat News his meetings with President Trump regarding the coronavirus have \"dramatically decreased.\" New York City will reopen June 8, Gov. Andrew Cuomo said. Under the state's \"phase one\" reopening plan, delivery or curbside pickup for retail will be allowed in the city, as well as construction.The AIPAC policy conference scheduled for March 2021 has been canceled over safety concerns. Former FDA commissioner Scott Gottlieb warned that \"this is not the time\" to be pulling out of the World Health Organization.Hydroxychloroquine prescription fills soared in March, after they were put in the political spotlight by Trump, according to a new study in JAMA. Evidence suggests the drug is not an effective treatment for the virus and could be dangerous for some.The White House announced on Sunday that it sent 2 million doses of hydroxychloroquine to Brazil, which is the new epicenter of the pandemic. It plans to also send 1,000 ventilators.The CDC, without notice, removed specifics on choirs in its guidelines for houses of worship to reopen.Trump held a press conference on Friday to blame China for the spread of the novel coronavirus, accusing the country of \"instigating a global pandemic,\" and saying the U.S. would terminate its relationship with the World Health Organization.Vaccine: Now that there are glimmers of hope for a vaccine, governments, NGOs and others are hashing out plans for how vaccines could be distributed once they are available — and deciding who will get them first.Nearly half of all African American, Latino, and low-income Americans are having trouble paying their bills, including medical bills.Unemployment: About 40.7 million Americans have filed for unemployment since the pandemic began, including 2.1 million last week.All 50 states are in the process at least partially reopening their economies.We've learned from lockdowns that the coronavirus doesn’t survive on surfaces as long as once feared, and it appears to transmit much more easily indoors than outside.Testing: Most states aren't doing enough, especially those that have seen larger outbreaks, per recent testing targets calculated by the Harvard Global Health Institute.Elections: States need to determine how to hold safe elections by this fall, when the virus will still be spreading. And state governments are facing budget shortfalls that threaten layoffs for public sector employees. Go deeper... In photos: Life in the era of coronavirus across the U.S.Editor's note: The graphic includes \"probable deaths\" that New York City began reporting on April 14. This article has been updated with new details throughout. Check back for the latest.\n",
      "\n"
     ]
    },
    {
     "name": "stdout",
     "output_type": "stream",
     "text": [
      "Headline: Trudeau silent when asked to react to Trump's actions against protesters - Axios\n",
      "Main Authors: ['Fadel Allassan']\n",
      "Main Text: Canadian Prime Minister Justin Trudeau was silent for about 20 seconds when asked to react to Monday's scenes from outside the White House, where police officers forcefully removed peaceful protesters to make way for a Trump photo op in front of St. John's Church.What he's saying: \"We all watch in horror and consternation at what is going on in the United States,\" Trudeau said after the long pause, declining to specifically react to Trump's threat to deploy the military on U.S. soil.\"It is a time to pull people together, but it is a time to listen. It is a time to learn, when injustices continue despite progress over years and decades.\"Trudeau then highlighted Canada's own challenges with racism and discrimination, saying black Canadians face many of the same hardships as African Americans.The big picture: The international community is watching as the Trump administration looks to crack down on U.S. protests that followed the killing of George Floyd as they continue for the eighth consecutive day.Australian Prime Minister Scott Morrison called for an investigation on Tuesday after video appeared to show two Australian journalists being attacked by police officers during protests outside the White House.German Foreign Minister Heiko Maas said his government would question U.S. officials after a reporter with German public outlet Deutsche Welle said he was shot at live on air while reporting in Minneapolis.“Democratic countries must apply the highest standards in protecting press freedom. In this context, all violence must not only be criticized by also prosecuted and clarified so that journalists can be effectively protected while carrying out their work,” Haas said.Go deeper: More reactions to the protests from around the world\n",
      "\n",
      "Headline: Twitter appoints Patrick Pichette as chair of board - Axios\n",
      "Main Authors: ['Sara Fischer', 'Media Trends']\n",
      "Main Text: Twitter on Tuesday disclosed in a government filing that ex-Google executive Patrick Pichette has been appointed chairman of the company’s board of directors, replacing Omid Kordestani, another former Google executive.Why it matters: The switch comes months after Twitter reached an agreement with activist investor Elliott Management, which at the time was looking to replace CEO Jack Dorsey with a more-hands on chief executive.Details: Pichette is a former senior Google executive who has been the company's lead independent director on the board since Dec. 31, 2018. Twitter says Pichette will remain on the board as a non-employee director, while Kordestani will stay on the board as a non-employee director.What they're saying: “We are pleased to demonstrate our commitment to good governance and be in the position to make this important change,\" Pichette said in a statement. \"We look forward to continuing to benefit from Omid’s expertise on the Board.”“I have seen firsthand the significant changes Twitter has undertaken to strengthen and stabilize its leadership structure to achieve long-term sustainable growth and feel confident that I can now step back from my active role as executive chair,\" Kordestani, in a statement.Go deeper: Jack Dorsey to remain as Twitter CEO after deal with Elliott Management and Silver Lake\n",
      "\n",
      "Headline: American carnage in the wake of George Floyd's death - Axios\n",
      "Main Authors: ['Axios']\n",
      "Main Text: The list of victims has swiftly grown since George Floyd died in police custody just eight days ago.The big picture: Protests against police brutality have turned into a showcase of police brutality, with tear gas and rubber bullets deployed against crowds. The police have the arsenals at their disposal, but we're also seeing law enforcement officers becoming targets.The AP reports the wounded toll is in the dozens from vehicles plowing into crowds, police officers suffering head injuries and broken bones, and protesters ending up in emergency rooms.Police officers have also been shot in St. Louis and Las Vegas, CNN reports.Among those killed across the U.S. since Floyd's death:David McAtee, 53, shot by law enforcement in Louisville, Kentucky. None of the officers had body cameras activated at the time. Police claimed on Tuesday that it appears McAtee fired first, citing new surveillance video footage.David Patrick Underwood, 53, shot while on duty as law enforcement in Oakland, California. The FBI hasn't announced a motive in his death.Chris Beaty, 38, shot in Indianapolis, Indiana. Police haven't confirmed whether it was related to the protests.Calvin L. Horton Jr., 43, shot outside a pawn shop in Minneapolis, Minnesota. The owner was booked but has yet to be charged.James Scurlock, 22, shot by a bar owner after an altercation in Omaha, Nebraska. Local authorities won't press charges, saying it was self-defense.Italia Kelly, 22, shot when trying to get into a friend's car while leaving a protest in Davenport, Iowa.The bottom line: Untold others have injuries ranging from bruises to potential coronavirus exposure to the aftereffects of tear gas.\n",
      "\n",
      "Headline: McConnell blocks resolution condemning Trump's actions against peaceful protesters - Axios\n",
      "Main Authors: ['Axios']\n",
      "Main Text: Senate Majority Leader Mitch McConnell (R-Ky.) blocked a resolution introduced by Minority Leader Chuck Schumer (D-N.Y.) on Tuesday that would have condemned the use of tear gas and rubber bullets against peaceful protesters outside the White House on Monday in order to allow President Trump to walk to St. John's Church.What they're saying: \"Justice for black Americans in the face of unjust violence, and peace for our country in the face of looting, riots, and domestic terror. Those are the two issues Americans want addressed,\" McConnell said on the Senate floor.\"Unfortunately, this resolution from my friend the Democratic leader does not address either one of them. Instead, it just indulges in the myopic obsession with President Trump that has come to define the Democratic side of the aisle.\"\"Outside of the Washington, D.C., bubble, there is no universe where Americans think Democrats' obsession with condemning President Trump is a more urgent priority than ending the riots or advancing racial justice.\"The other side: The resolution that Schumer introduced also affirmed the constitutional rights of peaceful protesters and condemned violence and looting. \"It's very simple why the Republican leader objected to our resolution and offered this one instead,\" Schumer said, after objecting to a counter-resolution from McConnell that stripped out references to Trump.\"It's because they do not want to condemn what the president did, though every fair minded American of any political party would. We certainly should condemn violence — let me repeat, this resolution condemns violence — but it is insufficient in light of what happened just to condemn violence, and not condemn what the president did as well.\"Details: Schumer's proposed resolution affirmed the following ... \"The constitutional rights of Americans to peaceably assemble, exercise freedom of speech, and petition the government for redress of grievances must be respected;That violence and looting are unlawful, unacceptable and contrary to the purpose of peaceful protests; andThat Congress condemns the President of the United States for ordering federal officers to use gas and rubber bullets against the Americans who were peaceably protesting in Lafayette Square in Washington, DC on the night of June 1, 2020, thereby violating the constitutional rights of those peaceful protesters.\"Go deeper: Handful of GOP senators scold Trump over St. John's photo op\n",
      "\n",
      "Headline: George W. Bush breaks silence on George Floyd - Axios\n",
      "Main Authors: ['Ursula Perano']\n",
      "Main Text: Former President George W. Bush (R) wrote in a statement Tuesday that he and his wife, Laura, are \"anguished\" by the death of George Floyd, and said that \"it is time for America to examine our tragic failures.\"Why it matters: It's a stark juxtaposition when compared to fellow Republican President Trump's response to current civil unrest. While Trump has called for justice in Floyd's death, he's also condemned violent protestors and threatened to deploy military personnel if demonstrations continue. The former president, however, made no mention of the current administration in his statement.Bush writes that he and his wife over the past week actively \"resisted the urge to speak out, because this is not the time for us to lecture. It is time for us to listen.\"What he's saying: Bush argued Americans best serve their neighbors when they \"try to understand their experience.\"\"It remains a shocking failure that many African Americans, especially young African American men, are harassed and threatened in their own country...,\" Bush wrote.\"How do we end systemic racism in our society? The only way to see ourselves in a true light is to listen to the voices of so many who are hurting and grieving. Those who set out to silence those voices do not understand the meaning of America — or how it becomes a better place,\" he added. The bottom line: Bush said \"lasting justice will only come by peaceful means,\" condemning looting and destruction that's occurred in some demonstrations. But \"we also know that lasting peace in our communities requires truly equal justice. The rule of law ultimately depends on the fairness and legitimacy of the legal system.\"\n",
      "\n"
     ]
    },
    {
     "name": "stdout",
     "output_type": "stream",
     "text": [
      "Headline: Zoom revenues and profit soar as pandemic propels videoconferencing - Axios\n",
      "Main Authors: ['Kyle Daly']\n",
      "Main Text: Zoom saw revenue more than double and bulked up what had been a razor-thin profit margin in the three months ending April 30, the company reported Tuesday.The big picture: The report marks Zoom's first of the pandemic era, as the company went from insurgent enterprise video-conferencing startup to global powerhouse.Details:Revenue came to $328.2 million, up 169% year over year and well above the $203 million Wall Street reportedly expected.Net income came to $27.0 million, or $0.09 per share, up from $198,000, or roughly break-even per share, in the year-ago quarter. Analysts had been projecting $0.01 per share.The company counted roughly 265,400 enterprise customers with more than 10 employees, up 354% year over year.Zoom shares were up modestly in after-hours trading following the report.\n",
      "\n",
      "Headline: Report: Zuckerberg defends Facebook's choice to keep Trump posts - Axios\n",
      "Main Authors: ['Sara Fischer', 'Media Trends']\n",
      "Main Text: Facebook CEO Mark Zuckerberg doubled down on his decision not to remove incendiary posts from President Trump in an internal call with employees on Tuesday, The New York Times reports. The state of play: The tech giant is facing criticism for keeping the posts on the site after Twitter added fact-checks to Trump's same posts last week. Facebook employees staged a virtual walkout Monday to protest their employer's decision. Advocacy groups are calling on the company to do a better job of keeping harmful content off the platform. Civil rights groups said they were disappointed after a Monday night Zoom call with Zuckerberg and Facebook COO Sheryl Sandberg, in which they discussed the decision. Details: On the call with employees Tuesday, Zuckerberg said he made a “tough decision” but that it “was pretty thorough,” per The Times. He told employees that he knew the company would be scrutinized for its choice. He made the comments on a video call that was scheduled for Thursday but moved up in light of Monday's walkout. The big picture: Facebook has taken the toughest stance on defending free speech among its competitors to the satisfaction of many Republicans, including Trump. The company still allows political advertisers to micro-target ads, while Google limited targeting and Twitter banned political ads entirely. Yes, but: Facebook is not alone in the tech world for having to make tough decisions that could have big implications in the future. Former Reddit CEO Ellen Pao called out the company's current chief executive Steve Huffman on Twitter Monday night for not shutting down right-wing subreddit \"r/the_donald,\" after he published a statement addressing the protests.What they're saying: \"Open and honest discussion has always been a part of Facebook's culture. Mark [Zuckerberg] had an open discussion with employees today, as he has regularly over the years. He's grateful for their feedback,\" a Facebook spokesperson said.The bottom line: Zuckerberg is proving that he's unwilling to yield his values around this issue in the face of intense criticism from many stakeholders. \n",
      "\n",
      "Headline: Lawsuit over Trump's social media order says it will chill speech online - Axios\n",
      "Main Authors: ['Margaret Harding McGill']\n",
      "Main Text: The Center for Democracy & Technology sued President Donald Trump on Tuesday, alleging his executive order on social media violates the First Amendment.Driving the news:  The nonprofit advocacy organization argues Trump was retaliating against Twitter for labeling his tweets, and asks a federal court to declare the order unlawful.The lawsuit says the order \"seeks to curtail and chill the constitutionally protected speech of all online platforms and individuals— by demonstrating the willingness to use government authority to retaliate against those who criticize the government.\"\"The President has made clear his intent to use threats of retaliation and future regulation to intimidate intermediaries into changing how they moderate content, essentially ensuring that the dangers of voter suppression and disinformation will grow unchecked in an election year,\" CDT President Alexandra Givens said in a statement.Details:  The executive order, signed last week by the president, targets the legal protections online platforms have from liability over content their users post.It was panned by a wide range of groups, and legal experts have expressed doubts it will be carried out.\n",
      "\n"
     ]
    },
    {
     "ename": "KeyboardInterrupt",
     "evalue": "",
     "output_type": "error",
     "traceback": [
      "\u001b[0;31m---------------------------------------------------------------------------\u001b[0m",
      "\u001b[0;31mKeyboardInterrupt\u001b[0m                         Traceback (most recent call last)",
      "\u001b[0;32m<ipython-input-13-c2173631bbad>\u001b[0m in \u001b[0;36m<module>\u001b[0;34m\u001b[0m\n\u001b[1;32m      6\u001b[0m \u001b[0;34m\u001b[0m\u001b[0m\n\u001b[1;32m      7\u001b[0m \u001b[0;32mfor\u001b[0m \u001b[0murl\u001b[0m \u001b[0;32min\u001b[0m \u001b[0mget_latest_urls\u001b[0m\u001b[0;34m(\u001b[0m\u001b[0mmain_soup\u001b[0m\u001b[0;34m)\u001b[0m\u001b[0;34m:\u001b[0m\u001b[0;34m\u001b[0m\u001b[0;34m\u001b[0m\u001b[0m\n\u001b[0;32m----> 8\u001b[0;31m     \u001b[0mtime\u001b[0m\u001b[0;34m.\u001b[0m\u001b[0msleep\u001b[0m\u001b[0;34m(\u001b[0m\u001b[0;36m15\u001b[0m\u001b[0;34m)\u001b[0m\u001b[0;34m\u001b[0m\u001b[0;34m\u001b[0m\u001b[0m\n\u001b[0m\u001b[1;32m      9\u001b[0m     \u001b[0mpage\u001b[0m \u001b[0;34m=\u001b[0m \u001b[0mget_webpage\u001b[0m\u001b[0;34m(\u001b[0m\u001b[0murl\u001b[0m\u001b[0;34m)\u001b[0m\u001b[0;34m\u001b[0m\u001b[0;34m\u001b[0m\u001b[0m\n\u001b[1;32m     10\u001b[0m     \u001b[0msoup\u001b[0m \u001b[0;34m=\u001b[0m \u001b[0msoupify_webpage\u001b[0m\u001b[0;34m(\u001b[0m\u001b[0mpage\u001b[0m\u001b[0;34m)\u001b[0m\u001b[0;34m\u001b[0m\u001b[0;34m\u001b[0m\u001b[0m\n",
      "\u001b[0;31mKeyboardInterrupt\u001b[0m: "
     ]
    }
   ],
   "source": [
    "import time\n",
    "\n",
    "main_url = 'https://www.axios.com/'\n",
    "main_page = get_webpage(main_url)\n",
    "main_soup = soupify_webpage(main_page)\n",
    "\n",
    "for url in get_latest_urls(main_soup):\n",
    "    time.sleep(15)\n",
    "    page = get_webpage(url)\n",
    "    soup = soupify_webpage(page)\n",
    "    \n",
    "    main_article = isolate_main_article(soup)\n",
    "    main_tags = isolate_main_tags(main_article)\n",
    "    main_headline = isolate_main_headline(soup)\n",
    "    main_authors = isolate_main_authors(main_article)\n",
    "    main_text = isolate_main_text(main_article)\n",
    "    \n",
    "    print(f'Headline: {main_headline}')\n",
    "    print(f'Main Authors: {main_authors}')\n",
    "    print(f'Main Text: {main_text}')\n",
    "    print()"
   ]
  },
  {
   "cell_type": "code",
   "execution_count": 16,
   "metadata": {},
   "outputs": [],
   "source": [
    "test_url = 'https://www.axios.com/health/' + get_date()\n",
    "page = get_webpage(test_url)\n",
    "soup = soupify_webpage(page)"
   ]
  },
  {
   "cell_type": "code",
   "execution_count": 40,
   "metadata": {},
   "outputs": [
    {
     "data": {
      "text/plain": [
       "'https://www.axios.com/coronavirus-latest-news-quick-highlights-57a186a3-7547-45bf-852a-83019849d8d5.html'"
      ]
     },
     "execution_count": 40,
     "metadata": {},
     "output_type": "execute_result"
    }
   ],
   "source": [
    "soup.find_all('a', class_='gtm-content-click title-link')[0]['href']\n",
    "#return [latest_stories[ind]['href'] for ind in range(len(latest_stories))]\n"
   ]
  },
  {
   "cell_type": "code",
   "execution_count": 41,
   "metadata": {},
   "outputs": [
    {
     "data": {
      "text/plain": [
       "['https://www.axios.com/coronavirus-latest-news-quick-highlights-57a186a3-7547-45bf-852a-83019849d8d5.html',\n",
       " 'https://www.axios.com/coronavirus-latest-developments-8b8990c4-6762-494a-8ee0-5091746bda9b.html',\n",
       " 'https://www.axios.com/coronavirus-west-virginia-first-case-ac32ce6d-5523-4310-a219-7d1d1dcb6b44.html',\n",
       " 'https://www.axios.com/cerberus-sells-control-of-steward-health-care-back-to-company-8baae355-988d-47e3-8ea6-296fe698c7d7.html',\n",
       " 'https://www.axios.com/police-brutality-protests-coronavirus-38e65969-3108-4b2b-b68d-310fe247faf0.html',\n",
       " 'https://www.axios.com/coronavirus-nursing-homes-isolation-5ab504ff-b73c-4a7f-870e-fc2ed60ed637.html',\n",
       " 'https://www.axios.com/nursing-homes-coronavirus-deaths-90f898bf-11e6-4b7d-87ce-dfd939715fd4.html',\n",
       " 'https://www.axios.com/pro-rata-podcast-coronavirus-protests-464d11da-6692-4f8c-94a7-16177f0954ba.html',\n",
       " 'https://www.axios.com/fauci-trump-meetings-coronavirus-2e941b21-216e-45c5-a25b-f22b643447df.html',\n",
       " 'https://www.axios.com/coronavirus-lockdown-lessons-2f2e28cb-848b-42e2-a9da-b2d31fb8bda6.html',\n",
       " 'https://www.axios.com/health-care-ceo-pay-2019-7356a020-711e-472b-a576-41a4a5b1357d.html']"
      ]
     },
     "execution_count": 41,
     "metadata": {},
     "output_type": "execute_result"
    }
   ],
   "source": [
    "def find_url_by_section(url):\n",
    "    url = url + get_date()\n",
    "    page = get_webpage(url)\n",
    "    soup = soupify_webpage(page)\n",
    "    \n",
    "    all_urls = soup.find_all('a', class_='gtm-content-click title-link')\n",
    "    return [all_urls[url_num]['href'] for url_num in range(len(all_urls))]\n",
    "\n",
    "find_url_by_section('https://www.axios.com/health/')"
   ]
  },
  {
   "cell_type": "code",
   "execution_count": 46,
   "metadata": {},
   "outputs": [
    {
     "data": {
      "text/plain": [
       "200"
      ]
     },
     "execution_count": 46,
     "metadata": {},
     "output_type": "execute_result"
    }
   ],
   "source": [
    "def check_status_code(page):\n",
    "    return page.status_code\n",
    "\n",
    "check_status_code(page)"
   ]
  },
  {
   "cell_type": "code",
   "execution_count": null,
   "metadata": {},
   "outputs": [],
   "source": []
  }
 ],
 "metadata": {
  "kernelspec": {
   "display_name": "Python 3",
   "language": "python",
   "name": "python3"
  },
  "language_info": {
   "codemirror_mode": {
    "name": "ipython",
    "version": 3
   },
   "file_extension": ".py",
   "mimetype": "text/x-python",
   "name": "python",
   "nbconvert_exporter": "python",
   "pygments_lexer": "ipython3",
   "version": "3.8.3"
  }
 },
 "nbformat": 4,
 "nbformat_minor": 4
}
